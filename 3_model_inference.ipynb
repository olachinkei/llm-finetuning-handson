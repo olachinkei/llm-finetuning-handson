{
 "cells": [
  {
   "cell_type": "code",
   "execution_count": 2,
   "metadata": {},
   "outputs": [
    {
     "name": "stderr",
     "output_type": "stream",
     "text": [
      "/home/olachinkeigpu/anaconda3/envs/llm-finetuning/lib/python3.11/site-packages/tqdm/auto.py:21: TqdmWarning: IProgress not found. Please update jupyter and ipywidgets. See https://ipywidgets.readthedocs.io/en/stable/user_install.html\n",
      "  from .autonotebook import tqdm as notebook_tqdm\n"
     ]
    }
   ],
   "source": [
    "import bitsandbytes\n",
    "import wandb\n",
    "import random\n",
    "import pandas as pd\n",
    "import torch\n",
    "import json\n",
    "import wandb\n",
    "import os\n",
    "from datasets import Dataset, concatenate_datasets, load_dataset\n",
    "from peft import PeftModel\n",
    "from transformers import AutoModelForCausalLM, AutoTokenizer, PreTrainedTokenizerBase"
   ]
  },
  {
   "cell_type": "code",
   "execution_count": 3,
   "metadata": {},
   "outputs": [
    {
     "name": "stdout",
     "output_type": "stream",
     "text": [
      "/bin/bash: -c: line 2: syntax error: unexpected end of file\n"
     ]
    }
   ],
   "source": [
    "!wandb.login()\n",
    "os.environ[\"CUDA_VISIBLE_DEVICES\"]=\"0\"\n",
    "os.environ[\"WANDB_LOG_MODEL\"] = \"checkpoint\"\n",
    "os.environ[\"WANDB_WATCH\"] = \"gradients\"\n",
    "os.environ[\"TOKENIZERS_PARALLELISM\"] = \"false\"\n",
    "wandb_entity=\"\"\n",
    "wandb_project=\"\""
   ]
  },
  {
   "cell_type": "code",
   "execution_count": 4,
   "metadata": {},
   "outputs": [],
   "source": [
    "config ={\n",
    "    \"artifacts_path\":'wandb-japan/llm-finetuning/model-164uv3h2:v0',\n",
    "    \"tuning_data_artifacts\": {\"Anthropic_hh_rlfh\":'wandb-japan/llm-finetuning/Anthropic_hh_rlfh:v0',\n",
    "                              \"OpenAssistant_oasst1\":\"wandb-japan/llm-finetuning/OpenAssistant_oasst1:v0\",\n",
    "                              \"databricks-dolly-15k-ja\":\"wandb-japan/llm-finetuning/databricks-dolly-15k-ja:v0\"},\n",
    "}"
   ]
  },
  {
   "cell_type": "code",
   "execution_count": 6,
   "metadata": {},
   "outputs": [
    {
     "data": {
      "text/html": [
       "Tracking run with wandb version 0.16.2"
      ],
      "text/plain": [
       "<IPython.core.display.HTML object>"
      ]
     },
     "metadata": {},
     "output_type": "display_data"
    },
    {
     "data": {
      "text/html": [
       "Run data is saved locally in <code>/home/olachinkeigpu/Project/llm-finetuning-handson/wandb/run-20240123_004730-63lga4nz</code>"
      ],
      "text/plain": [
       "<IPython.core.display.HTML object>"
      ]
     },
     "metadata": {},
     "output_type": "display_data"
    },
    {
     "data": {
      "text/html": [
       "Syncing run <strong><a href='https://wandb.ai/wandb-japan/llm-finetuning/runs/63lga4nz' target=\"_blank\">happy-morning-134</a></strong> to <a href='https://wandb.ai/wandb-japan/llm-finetuning' target=\"_blank\">Weights & Biases</a> (<a href='https://wandb.me/run' target=\"_blank\">docs</a>)<br/>"
      ],
      "text/plain": [
       "<IPython.core.display.HTML object>"
      ]
     },
     "metadata": {},
     "output_type": "display_data"
    },
    {
     "data": {
      "text/html": [
       " View project at <a href='https://wandb.ai/wandb-japan/llm-finetuning' target=\"_blank\">https://wandb.ai/wandb-japan/llm-finetuning</a>"
      ],
      "text/plain": [
       "<IPython.core.display.HTML object>"
      ]
     },
     "metadata": {},
     "output_type": "display_data"
    },
    {
     "data": {
      "text/html": [
       " View run at <a href='https://wandb.ai/wandb-japan/llm-finetuning/runs/63lga4nz' target=\"_blank\">https://wandb.ai/wandb-japan/llm-finetuning/runs/63lga4nz</a>"
      ],
      "text/plain": [
       "<IPython.core.display.HTML object>"
      ]
     },
     "metadata": {},
     "output_type": "display_data"
    },
    {
     "name": "stderr",
     "output_type": "stream",
     "text": [
      "\u001b[34m\u001b[1mwandb\u001b[0m: Downloading large artifact Anthropic_hh_rlfh:v0, 68.05MB. 1 files... \n",
      "\u001b[34m\u001b[1mwandb\u001b[0m:   1 of 1 files downloaded.  \n",
      "Done. 0:0:0.3\n",
      "\u001b[34m\u001b[1mwandb\u001b[0m: Downloading large artifact OpenAssistant_oasst1:v0, 114.69MB. 1 files... \n",
      "\u001b[34m\u001b[1mwandb\u001b[0m:   1 of 1 files downloaded.  \n",
      "Done. 0:0:0.4\n",
      "\u001b[34m\u001b[1mwandb\u001b[0m:   1 of 1 files downloaded.  \n",
      "\u001b[34m\u001b[1mwandb\u001b[0m:   7 of 7 files downloaded.  \n",
      "Setting `pad_token_id` to `eos_token_id`:0 for open-end generation.\n",
      "Setting `pad_token_id` to `eos_token_id`:0 for open-end generation.\n",
      "Setting `pad_token_id` to `eos_token_id`:0 for open-end generation.\n",
      "Setting `pad_token_id` to `eos_token_id`:0 for open-end generation.\n",
      "Setting `pad_token_id` to `eos_token_id`:0 for open-end generation.\n",
      "Setting `pad_token_id` to `eos_token_id`:0 for open-end generation.\n",
      "Setting `pad_token_id` to `eos_token_id`:0 for open-end generation.\n",
      "Setting `pad_token_id` to `eos_token_id`:0 for open-end generation.\n",
      "Setting `pad_token_id` to `eos_token_id`:0 for open-end generation.\n",
      "Setting `pad_token_id` to `eos_token_id`:0 for open-end generation.\n",
      "wandb: WARNING Source type is set to 'repo' but some required information is missing from the environment. A job will not be created from this run. See https://docs.wandb.ai/guides/launch/create-job\n"
     ]
    },
    {
     "data": {
      "text/html": [
       " View run <strong style=\"color:#cdcd00\">happy-morning-134</strong> at: <a href='https://wandb.ai/wandb-japan/llm-finetuning/runs/63lga4nz' target=\"_blank\">https://wandb.ai/wandb-japan/llm-finetuning/runs/63lga4nz</a><br/>Synced 6 W&B file(s), 1 media file(s), 1 artifact file(s) and 0 other file(s)"
      ],
      "text/plain": [
       "<IPython.core.display.HTML object>"
      ]
     },
     "metadata": {},
     "output_type": "display_data"
    },
    {
     "data": {
      "text/html": [
       "Find logs at: <code>./wandb/run-20240123_004730-63lga4nz/logs</code>"
      ],
      "text/plain": [
       "<IPython.core.display.HTML object>"
      ]
     },
     "metadata": {},
     "output_type": "display_data"
    }
   ],
   "source": [
    "def perform_inference(dataset, model, tokenizer):\n",
    "    response_keyword = \"### 応答:\"\n",
    "    inferences = []\n",
    "\n",
    "    for example in dataset:\n",
    "        split_text = example[\"text\"].split(response_keyword)\n",
    "        input_text = split_text[0].strip() + \"### 応答:\"  # 入力テキスト\n",
    "        correct_response = split_text[1].strip() if len(split_text) > 1 else \"\"\n",
    "\n",
    "        inputs = tokenizer(input_text, return_tensors=\"pt\").to(model.device)\n",
    "        outputs = model.generate(**inputs, max_length=1024)\n",
    "        prediction_full = tokenizer.decode(outputs[0], skip_special_tokens=True)\n",
    "        tokens_input = tokenizer.tokenize(input_text)\n",
    "        tokens_prediction = tokenizer.tokenize(prediction_full)[len(tokens_input):]\n",
    "        prediction = tokenizer.convert_tokens_to_string(tokens_prediction)\n",
    "\n",
    "        inferences.append({\n",
    "            \"Input Text\": input_text,\n",
    "            \"Correct Response\": correct_response,\n",
    "            \"Prediction\": prediction\n",
    "        })\n",
    "    return pd.DataFrame(inferences)\n",
    "\n",
    "with wandb.init(entity=wandb_entity, project=wandb_project, config=config, job_type='inference') as run:\n",
    "    \n",
    "    # ... [Dataset preparation code] ...\n",
    "    # Data set prepration \n",
    "    datasets = []\n",
    "    # load Anthropic_hh_rlfh\n",
    "    dataset_artifacts=run.use_artifact(run.config[\"tuning_data_artifacts\"][\"Anthropic_hh_rlfh\"], type='dataset')\n",
    "    dataset_artifacts_folder=dataset_artifacts.download()\n",
    "    dataset = load_dataset('json', data_files=dataset_artifacts_folder+'/train_mpt_hhrlhf_49k_ja.json')\n",
    "    dataset = dataset[\"train\"]\n",
    "    dataset = dataset.select_columns(\"text\")\n",
    "    datasets.append(dataset)\n",
    "    # load OpenAssistant_oasst1\n",
    "    dataset_artifacts=run.use_artifact(run.config[\"tuning_data_artifacts\"][\"OpenAssistant_oasst1\"], type='dataset')\n",
    "    dataset_artifacts_folder=dataset_artifacts.download()\n",
    "    dataset = load_dataset('json', data_files=dataset_artifacts_folder+'/train_OpenAssistant_oasst1.json')\n",
    "    dataset = dataset[\"train\"]\n",
    "    dataset = dataset.select_columns(\"text\")\n",
    "    datasets.append(dataset)\n",
    "\n",
    "    # load databricks-dolly-15k-ja\n",
    "    dataset_artifacts=run.use_artifact(run.config[\"tuning_data_artifacts\"][\"databricks-dolly-15k-ja\"], type='dataset')\n",
    "    dataset_artifacts_folder=dataset_artifacts.download()\n",
    "    dataset = load_dataset('json', data_files=dataset_artifacts_folder+'/train_databricks-dolly-15k-ja.json')\n",
    "    dataset = dataset[\"train\"]\n",
    "    dataset = dataset.select_columns(\"text\")\n",
    "    datasets.append(dataset)\n",
    "    \n",
    "    train_dataset = concatenate_datasets(datasets)\n",
    "    train_dataset = train_dataset.train_test_split(test_size=0.1)\n",
    "    random_indices = random.sample(range(len(train_dataset['test'])), 5)\n",
    "    sampled_train_dataset = train_dataset['test'].select(random_indices)\n",
    "\n",
    "    # Model Preparation\n",
    "    artifacts = run.use_artifact(run.config[\"artifacts_path\"])\n",
    "    artifacts_path = artifacts.download()\n",
    "\n",
    "    tokenizer = AutoTokenizer.from_pretrained(artifacts_path, use_fast=True)\n",
    "    tokenizer.pad_token = tokenizer.eos_token\n",
    "    tokenizer.pad_token_id = tokenizer.eos_token_id\n",
    "\n",
    "    with open(f\"{artifacts_path}/adapter_config.json\", encoding=\"utf-8\") as f:\n",
    "        adapter_config = json.load(f)\n",
    "    adapterbase_model = adapter_config[\"base_model_name_or_path\"]\n",
    "\n",
    "    # Load and predict with base model\n",
    "    model_base = AutoModelForCausalLM.from_pretrained(\n",
    "        pretrained_model_name_or_path=adapterbase_model,\n",
    "        trust_remote_code=True,\n",
    "        device_map=\"auto\",\n",
    "        load_in_8bit=False,\n",
    "        load_in_4bit=False\n",
    "    )\n",
    "    model_base.eval()\n",
    "\n",
    "    # Inference with Base Model\n",
    "    base_model_inferences = perform_inference(sampled_train_dataset, model_base, tokenizer)\n",
    "\n",
    "    # Release GPU Memory\n",
    "    #del model_base\n",
    "    #torch.cuda.empty_cache()\n",
    "    #import gc\n",
    "    #gc.collect()\n",
    "\n",
    "    # Load and predict with Peft Model\n",
    "    model_finetuned = PeftModel.from_pretrained(model_base, artifacts_path)\n",
    "    model_finetuned = model_finetuned.merge_and_unload()\n",
    "    #model_finetuned = AutoModelForCausalLM.from_pretrained(artifacts_path, device_map=\"auto\")\n",
    "    model_finetuned.eval()\n",
    "\n",
    "    # Inference with Peft Model\n",
    "    peft_model_inferences = perform_inference(sampled_train_dataset, model_finetuned, tokenizer)\n",
    "\n",
    "    # Log Results\n",
    "    peft_model_inferences_reduced = peft_model_inferences.drop(columns=['Input Text', 'Correct Response'])\n",
    "    df_combined = pd.concat([base_model_inferences, peft_model_inferences_reduced], axis=1)\n",
    "    df_combined.columns = ['Input Text', 'Correct Response', 'Base Model Prediction', 'Peft Model Prediction']\n",
    "    data_table_combined = wandb.Table(dataframe=df_combined)\n",
    "    run.log({\"combined_predictions\": data_table_combined})"
   ]
  },
  {
   "cell_type": "code",
   "execution_count": null,
   "metadata": {},
   "outputs": [],
   "source": []
  }
 ],
 "metadata": {
  "kernelspec": {
   "display_name": "llm-finetuning",
   "language": "python",
   "name": "python3"
  },
  "language_info": {
   "codemirror_mode": {
    "name": "ipython",
    "version": 3
   },
   "file_extension": ".py",
   "mimetype": "text/x-python",
   "name": "python",
   "nbconvert_exporter": "python",
   "pygments_lexer": "ipython3",
   "version": "3.11.7"
  }
 },
 "nbformat": 4,
 "nbformat_minor": 2
}
