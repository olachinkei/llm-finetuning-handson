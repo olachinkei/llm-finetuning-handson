{
 "cells": [
  {
   "cell_type": "code",
   "execution_count": 1,
   "metadata": {},
   "outputs": [
    {
     "name": "stderr",
     "output_type": "stream",
     "text": [
      "/home/olachinkeigpu/anaconda3/envs/llm-finetuning/lib/python3.11/site-packages/tqdm/auto.py:21: TqdmWarning: IProgress not found. Please update jupyter and ipywidgets. See https://ipywidgets.readthedocs.io/en/stable/user_install.html\n",
      "  from .autonotebook import tqdm as notebook_tqdm\n"
     ]
    }
   ],
   "source": [
    "import datasets\n",
    "import wandb\n",
    "from transformers import AutoModelForCausalLM, AutoTokenizer\n",
    "import torch\n",
    "from tqdm import tqdm\n",
    "import os\n",
    "import json\n",
    "import pandas as pd"
   ]
  },
  {
   "cell_type": "code",
   "execution_count": 2,
   "metadata": {},
   "outputs": [
    {
     "name": "stdout",
     "output_type": "stream",
     "text": [
      "/bin/bash: -c: line 2: syntax error: unexpected end of file\n"
     ]
    }
   ],
   "source": [
    "wandb.login()\n",
    "os.environ[\"CUDA_VISIBLE_DEVICES\"]=\"0\"\n",
    "os.environ[\"WANDB_LOG_MODEL\"] = \"checkpoint\"\n",
    "os.environ[\"WANDB_WATCH\"] = \"gradients\"\n",
    "os.environ[\"TOKENIZERS_PARALLELISM\"] = \"false\"\n",
    "wandb_entity=\"\" # change here\n",
    "wandb_project=\"\" # change here"
   ]
  },
  {
   "cell_type": "markdown",
   "metadata": {},
   "source": [
    "# Model Registration"
   ]
  },
  {
   "cell_type": "code",
   "execution_count": 12,
   "metadata": {},
   "outputs": [
    {
     "data": {
      "text/html": [
       "Changes to your `wandb` environment variables will be ignored because your `wandb` session has already started. For more information on how to modify your settings with `wandb.init()` arguments, please refer to <a href='https://wandb.me/wandb-init' target=\"_blank\">the W&B docs</a>."
      ],
      "text/plain": [
       "<IPython.core.display.HTML object>"
      ]
     },
     "metadata": {},
     "output_type": "display_data"
    },
    {
     "data": {
      "text/html": [
       "Tracking run with wandb version 0.16.2"
      ],
      "text/plain": [
       "<IPython.core.display.HTML object>"
      ]
     },
     "metadata": {},
     "output_type": "display_data"
    },
    {
     "data": {
      "text/html": [
       "Run data is saved locally in <code>/home/olachinkeigpu/Project/llm-finetuning-handson/wandb/run-20240120_104106-0jl4tcgo</code>"
      ],
      "text/plain": [
       "<IPython.core.display.HTML object>"
      ]
     },
     "metadata": {},
     "output_type": "display_data"
    },
    {
     "data": {
      "text/html": [
       "Syncing run <strong><a href='https://wandb.ai/wandb-japan/llm-finetuning-handson/runs/0jl4tcgo' target=\"_blank\">foundation model upload</a></strong> to <a href='https://wandb.ai/wandb-japan/llm-finetuning-handson' target=\"_blank\">Weights & Biases</a> (<a href='https://wandb.me/run' target=\"_blank\">docs</a>)<br/>"
      ],
      "text/plain": [
       "<IPython.core.display.HTML object>"
      ]
     },
     "metadata": {},
     "output_type": "display_data"
    },
    {
     "data": {
      "text/html": [
       " View project at <a href='https://wandb.ai/wandb-japan/llm-finetuning-handson' target=\"_blank\">https://wandb.ai/wandb-japan/llm-finetuning-handson</a>"
      ],
      "text/plain": [
       "<IPython.core.display.HTML object>"
      ]
     },
     "metadata": {},
     "output_type": "display_data"
    },
    {
     "data": {
      "text/html": [
       " View run at <a href='https://wandb.ai/wandb-japan/llm-finetuning-handson/runs/0jl4tcgo' target=\"_blank\">https://wandb.ai/wandb-japan/llm-finetuning-handson/runs/0jl4tcgo</a>"
      ],
      "text/plain": [
       "<IPython.core.display.HTML object>"
      ]
     },
     "metadata": {},
     "output_type": "display_data"
    },
    {
     "name": "stderr",
     "output_type": "stream",
     "text": [
      "\u001b[34m\u001b[1mwandb\u001b[0m: Adding directory to artifact (./model_directory)... Done. 1.3s\n",
      "wandb: WARNING Source type is set to 'repo' but some required information is missing from the environment. A job will not be created from this run. See https://docs.wandb.ai/guides/launch/create-job\n"
     ]
    },
    {
     "data": {
      "text/html": [
       " View run <strong style=\"color:#cdcd00\">foundation model upload</strong> at: <a href='https://wandb.ai/wandb-japan/llm-finetuning-handson/runs/0jl4tcgo' target=\"_blank\">https://wandb.ai/wandb-japan/llm-finetuning-handson/runs/0jl4tcgo</a><br/>Synced 6 W&B file(s), 0 media file(s), 0 artifact file(s) and 0 other file(s)"
      ],
      "text/plain": [
       "<IPython.core.display.HTML object>"
      ]
     },
     "metadata": {},
     "output_type": "display_data"
    },
    {
     "data": {
      "text/html": [
       "Find logs at: <code>./wandb/run-20240120_104106-0jl4tcgo/logs</code>"
      ],
      "text/plain": [
       "<IPython.core.display.HTML object>"
      ]
     },
     "metadata": {},
     "output_type": "display_data"
    }
   ],
   "source": [
    "with wandb.init(entity=wandb_entity, project=wandb_project, name='foundation model upload', job_type='data_upload') as run:\n",
    "    # model import\n",
    "    model_name = \"cyberagent/open-calm-medium\"\n",
    "    model = AutoModelForCausalLM.from_pretrained(model_name, device_map=\"auto\", torch_dtype=torch.float16)\n",
    "    tokenizer = AutoTokenizer.from_pretrained(model_name)\n",
    "    model_directory = \"./model_directory\"\n",
    "    model.save_pretrained(model_directory)\n",
    "    tokenizer.save_pretrained(model_directory)\n",
    "\n",
    "    # create artifacts\n",
    "    model_artifact = wandb.Artifact(f'{model_name.replace(\"/\", \"-\")}', type='model')\n",
    "    model_artifact.add_dir(model_directory)\n",
    "\n",
    "    # log to wandb\n",
    "    run.log_artifact(model_artifact)"
   ]
  },
  {
   "cell_type": "markdown",
   "metadata": {},
   "source": [
    "# Data Preparation"
   ]
  },
  {
   "cell_type": "code",
   "execution_count": 20,
   "metadata": {},
   "outputs": [],
   "source": [
    "PROMPT_NO_INPUT_FORMAT = \"\"\"以下は、あるタスクを説明する指示です。このリクエストを適切に完了する回答を書いてください。\n",
    "### 指示: {instruction}\n",
    "### 応答: \"\"\"\n",
    "\n",
    "PROMPT_WITH_INPUT_FORMAT = \"\"\"以下は、あるタスクを説明する指示です。このリクエストを適切に完了する回答を書いてください。\n",
    "### 指示: {instruction}\n",
    "### 入力: {input}\n",
    "### 応答: \"\"\""
   ]
  },
  {
   "cell_type": "code",
   "execution_count": 21,
   "metadata": {},
   "outputs": [
    {
     "data": {
      "text/html": [
       "Tracking run with wandb version 0.16.2"
      ],
      "text/plain": [
       "<IPython.core.display.HTML object>"
      ]
     },
     "metadata": {},
     "output_type": "display_data"
    },
    {
     "data": {
      "text/html": [
       "Run data is saved locally in <code>/home/olachinkeigpu/Project/llm-finetuning-handson/wandb/run-20240120_150433-reltsirm</code>"
      ],
      "text/plain": [
       "<IPython.core.display.HTML object>"
      ]
     },
     "metadata": {},
     "output_type": "display_data"
    },
    {
     "data": {
      "text/html": [
       "Syncing run <strong><a href='https://wandb.ai/wandb-japan/llm-finetuning/runs/reltsirm' target=\"_blank\">dolly-15k-ja upload</a></strong> to <a href='https://wandb.ai/wandb-japan/llm-finetuning' target=\"_blank\">Weights & Biases</a> (<a href='https://wandb.me/run' target=\"_blank\">docs</a>)<br/>"
      ],
      "text/plain": [
       "<IPython.core.display.HTML object>"
      ]
     },
     "metadata": {},
     "output_type": "display_data"
    },
    {
     "data": {
      "text/html": [
       " View project at <a href='https://wandb.ai/wandb-japan/llm-finetuning' target=\"_blank\">https://wandb.ai/wandb-japan/llm-finetuning</a>"
      ],
      "text/plain": [
       "<IPython.core.display.HTML object>"
      ]
     },
     "metadata": {},
     "output_type": "display_data"
    },
    {
     "data": {
      "text/html": [
       " View run at <a href='https://wandb.ai/wandb-japan/llm-finetuning/runs/reltsirm' target=\"_blank\">https://wandb.ai/wandb-japan/llm-finetuning/runs/reltsirm</a>"
      ],
      "text/plain": [
       "<IPython.core.display.HTML object>"
      ]
     },
     "metadata": {},
     "output_type": "display_data"
    },
    {
     "name": "stderr",
     "output_type": "stream",
     "text": [
      "100%|██████████| 15015/15015 [00:00<00:00, 50356.20it/s]\n",
      "wandb: WARNING Source type is set to 'repo' but some required information is missing from the environment. A job will not be created from this run. See https://docs.wandb.ai/guides/launch/create-job\n"
     ]
    },
    {
     "data": {
      "text/html": [
       " View run <strong style=\"color:#cdcd00\">dolly-15k-ja upload</strong> at: <a href='https://wandb.ai/wandb-japan/llm-finetuning/runs/reltsirm' target=\"_blank\">https://wandb.ai/wandb-japan/llm-finetuning/runs/reltsirm</a><br/>Synced 6 W&B file(s), 0 media file(s), 1 artifact file(s) and 0 other file(s)"
      ],
      "text/plain": [
       "<IPython.core.display.HTML object>"
      ]
     },
     "metadata": {},
     "output_type": "display_data"
    },
    {
     "data": {
      "text/html": [
       "Find logs at: <code>./wandb/run-20240120_150433-reltsirm/logs</code>"
      ],
      "text/plain": [
       "<IPython.core.display.HTML object>"
      ]
     },
     "metadata": {},
     "output_type": "display_data"
    }
   ],
   "source": [
    "with wandb.init(entity=wandb_entity, project=wandb_project,  name='dolly-15k-ja upload', job_type='data_upload') as run:\n",
    "  dataset = datasets.load_dataset(\"kunishou/databricks-dolly-15k-ja\")\n",
    "  dataset = dataset[\"train\"]\n",
    "  processed_data = []\n",
    "\n",
    "  for record in tqdm(dataset):\n",
    "    if 'input' in record:\n",
    "        source_text = PROMPT_WITH_INPUT_FORMAT.format(instruction=record['instruction'], input=record['input'])\n",
    "    else:\n",
    "        source_text = PROMPT_NO_INPUT_FORMAT.format(instruction=record['instruction'])\n",
    "    \n",
    "    example_text = {\"text\": source_text + record['output'], \"label\":record['output']}\n",
    "    processed_data.append(example_text)\n",
    "    \n",
    "  with open('train_databricks-dolly-15k-ja.json', 'w', encoding='utf-8') as f:\n",
    "      json.dump(processed_data, f, ensure_ascii=False, indent=2)\n",
    "\n",
    "  dataset_artifact = wandb.Artifact(\"databricks-dolly-15k-ja\", type='dataset')\n",
    "  dataset_artifact.add_file(f\"train_databricks-dolly-15k-ja.json\")\n",
    "  run.log_artifact(dataset_artifact)"
   ]
  },
  {
   "cell_type": "code",
   "execution_count": 22,
   "metadata": {},
   "outputs": [
    {
     "data": {
      "text/html": [
       "Tracking run with wandb version 0.16.2"
      ],
      "text/plain": [
       "<IPython.core.display.HTML object>"
      ]
     },
     "metadata": {},
     "output_type": "display_data"
    },
    {
     "data": {
      "text/html": [
       "Run data is saved locally in <code>/home/olachinkeigpu/Project/llm-finetuning-handson/wandb/run-20240120_150445-vh46p8lv</code>"
      ],
      "text/plain": [
       "<IPython.core.display.HTML object>"
      ]
     },
     "metadata": {},
     "output_type": "display_data"
    },
    {
     "data": {
      "text/html": [
       "Syncing run <strong><a href='https://wandb.ai/wandb-japan/llm-finetuning/runs/vh46p8lv' target=\"_blank\">oasst1-89k-ja upload</a></strong> to <a href='https://wandb.ai/wandb-japan/llm-finetuning' target=\"_blank\">Weights & Biases</a> (<a href='https://wandb.me/run' target=\"_blank\">docs</a>)<br/>"
      ],
      "text/plain": [
       "<IPython.core.display.HTML object>"
      ]
     },
     "metadata": {},
     "output_type": "display_data"
    },
    {
     "data": {
      "text/html": [
       " View project at <a href='https://wandb.ai/wandb-japan/llm-finetuning' target=\"_blank\">https://wandb.ai/wandb-japan/llm-finetuning</a>"
      ],
      "text/plain": [
       "<IPython.core.display.HTML object>"
      ]
     },
     "metadata": {},
     "output_type": "display_data"
    },
    {
     "data": {
      "text/html": [
       " View run at <a href='https://wandb.ai/wandb-japan/llm-finetuning/runs/vh46p8lv' target=\"_blank\">https://wandb.ai/wandb-japan/llm-finetuning/runs/vh46p8lv</a>"
      ],
      "text/plain": [
       "<IPython.core.display.HTML object>"
      ]
     },
     "metadata": {},
     "output_type": "display_data"
    },
    {
     "name": "stderr",
     "output_type": "stream",
     "text": [
      "100%|██████████| 55359/55359 [00:00<00:00, 67102.43it/s]\n",
      "wandb: WARNING Source type is set to 'repo' but some required information is missing from the environment. A job will not be created from this run. See https://docs.wandb.ai/guides/launch/create-job\n"
     ]
    },
    {
     "data": {
      "text/html": [
       " View run <strong style=\"color:#cdcd00\">oasst1-89k-ja upload</strong> at: <a href='https://wandb.ai/wandb-japan/llm-finetuning/runs/vh46p8lv' target=\"_blank\">https://wandb.ai/wandb-japan/llm-finetuning/runs/vh46p8lv</a><br/>Synced 6 W&B file(s), 0 media file(s), 1 artifact file(s) and 0 other file(s)"
      ],
      "text/plain": [
       "<IPython.core.display.HTML object>"
      ]
     },
     "metadata": {},
     "output_type": "display_data"
    },
    {
     "data": {
      "text/html": [
       "Find logs at: <code>./wandb/run-20240120_150445-vh46p8lv/logs</code>"
      ],
      "text/plain": [
       "<IPython.core.display.HTML object>"
      ]
     },
     "metadata": {},
     "output_type": "display_data"
    }
   ],
   "source": [
    "with wandb.init(entity=wandb_entity, project=wandb_project,name='oasst1-89k-ja upload', job_type='data_upload') as run:\n",
    "    ds = datasets.load_dataset(\"OpenAssistant/oasst1\")\n",
    "    train = ds[\"train\"].to_pandas()\n",
    "    val = ds[\"validation\"].to_pandas()\n",
    "\n",
    "    df_origin = pd.concat([train, val], axis=0).reset_index(drop=True)\n",
    "\n",
    "    # import japanese oasst1\n",
    "    df_ja = datasets.load_dataset(\"kunishou/oasst1-89k-ja\")\n",
    "    df_ja = df_ja[\"train\"]\n",
    "    df_ja = df_ja.to_pandas()\n",
    "\n",
    "    # metge oasst1 original data ana japanese data\n",
    "    df = pd.merge(df_origin, df_ja[[\"message_id\", \"text_ja\"]], on=\"message_id\", how=\"left\").copy()\n",
    "    df[\"text\"] = df[\"text_ja\"]\n",
    "\n",
    "    df_assistant = df[(df.role == \"assistant\")].copy()\n",
    "    df_prompter = df[(df.role == \"prompter\")].copy()\n",
    "    df_prompter = df_prompter.set_index(\"message_id\")\n",
    "    df_assistant[\"output\"] = df_assistant[\"text\"].values\n",
    "\n",
    "    inputs = []\n",
    "    parent_ids = []\n",
    "    for _, row in df_assistant.iterrows():\n",
    "        input = df_prompter.loc[row.parent_id]\n",
    "        inputs.append(input.text)\n",
    "        parent_ids.append(input.parent_id)\n",
    "\n",
    "    df_assistant[\"instruction\"] = inputs\n",
    "    df_assistant[\"parent_id\"] = parent_ids\n",
    "\n",
    "    df_assistant = df_assistant[\n",
    "        [\"instruction\", \"output\", \"message_id\", \"parent_id\", \"lang\", \"rank\"]\n",
    "    ].rename(columns={\"message_id\": \"id\"})\n",
    "\n",
    "    # exclude wrong data\n",
    "    df_assistant2 = df_assistant[~df_assistant[\"instruction\"].str.contains(\"翻訳\")]\n",
    "    processed_data = []\n",
    "    for _, record in tqdm(df_assistant2.iterrows(), total=df_assistant2.shape[0]):\n",
    "        source_text = PROMPT_NO_INPUT_FORMAT.format(instruction=record['instruction'])\n",
    "        example_text = {\"text\": source_text + record['output'], \"label\":record['output']}\n",
    "        processed_data.append(example_text)\n",
    "\n",
    "    with open('train_OpenAssistant_oasst1.json', 'w', encoding='utf-8') as f:\n",
    "        json.dump(processed_data, f, ensure_ascii=False, indent=2)\n",
    "\n",
    "    dataset_artifact = wandb.Artifact(\"OpenAssistant_oasst1\", type='dataset')\n",
    "    dataset_artifact.add_file(f\"train_OpenAssistant_oasst1.json\")\n",
    "    run.log_artifact(dataset_artifact)"
   ]
  },
  {
   "cell_type": "code",
   "execution_count": 23,
   "metadata": {},
   "outputs": [
    {
     "data": {
      "text/html": [
       "Tracking run with wandb version 0.16.2"
      ],
      "text/plain": [
       "<IPython.core.display.HTML object>"
      ]
     },
     "metadata": {},
     "output_type": "display_data"
    },
    {
     "data": {
      "text/html": [
       "Run data is saved locally in <code>/home/olachinkeigpu/Project/llm-finetuning-handson/wandb/run-20240120_150511-qxmwexck</code>"
      ],
      "text/plain": [
       "<IPython.core.display.HTML object>"
      ]
     },
     "metadata": {},
     "output_type": "display_data"
    },
    {
     "data": {
      "text/html": [
       "Syncing run <strong><a href='https://wandb.ai/wandb-japan/llm-finetuning/runs/qxmwexck' target=\"_blank\">Anthropic_hh_rlfh upload</a></strong> to <a href='https://wandb.ai/wandb-japan/llm-finetuning' target=\"_blank\">Weights & Biases</a> (<a href='https://wandb.me/run' target=\"_blank\">docs</a>)<br/>"
      ],
      "text/plain": [
       "<IPython.core.display.HTML object>"
      ]
     },
     "metadata": {},
     "output_type": "display_data"
    },
    {
     "data": {
      "text/html": [
       " View project at <a href='https://wandb.ai/wandb-japan/llm-finetuning' target=\"_blank\">https://wandb.ai/wandb-japan/llm-finetuning</a>"
      ],
      "text/plain": [
       "<IPython.core.display.HTML object>"
      ]
     },
     "metadata": {},
     "output_type": "display_data"
    },
    {
     "data": {
      "text/html": [
       " View run at <a href='https://wandb.ai/wandb-japan/llm-finetuning/runs/qxmwexck' target=\"_blank\">https://wandb.ai/wandb-japan/llm-finetuning/runs/qxmwexck</a>"
      ],
      "text/plain": [
       "<IPython.core.display.HTML object>"
      ]
     },
     "metadata": {},
     "output_type": "display_data"
    },
    {
     "name": "stderr",
     "output_type": "stream",
     "text": [
      "100%|██████████| 49424/49424 [00:01<00:00, 43327.41it/s]\n",
      "wandb: WARNING Source type is set to 'repo' but some required information is missing from the environment. A job will not be created from this run. See https://docs.wandb.ai/guides/launch/create-job\n"
     ]
    },
    {
     "data": {
      "text/html": [
       " View run <strong style=\"color:#cdcd00\">Anthropic_hh_rlfh upload</strong> at: <a href='https://wandb.ai/wandb-japan/llm-finetuning/runs/qxmwexck' target=\"_blank\">https://wandb.ai/wandb-japan/llm-finetuning/runs/qxmwexck</a><br/>Synced 6 W&B file(s), 0 media file(s), 1 artifact file(s) and 0 other file(s)"
      ],
      "text/plain": [
       "<IPython.core.display.HTML object>"
      ]
     },
     "metadata": {},
     "output_type": "display_data"
    },
    {
     "data": {
      "text/html": [
       "Find logs at: <code>./wandb/run-20240120_150511-qxmwexck/logs</code>"
      ],
      "text/plain": [
       "<IPython.core.display.HTML object>"
      ]
     },
     "metadata": {},
     "output_type": "display_data"
    }
   ],
   "source": [
    "with wandb.init(entity=wandb_entity, project=wandb_project,name='Anthropic_hh_rlfh upload',job_type='data_upload') as run:\n",
    "  dataset = datasets.load_dataset(\"kunishou/hh-rlhf-49k-ja\")\n",
    "  dataset = dataset[\"train\"]\n",
    "  processed_data = []\n",
    "\n",
    "  for record in tqdm(dataset):\n",
    "    source_text = PROMPT_NO_INPUT_FORMAT.format(instruction=record['instruction'])\n",
    "    example_text = {\"text\": source_text + record['output'], \"label\":record['output']}\n",
    "    processed_data.append(example_text)\n",
    "    \n",
    "  with open('train_mpt_hhrlhf_49k_ja.json', 'w', encoding='utf-8') as f:\n",
    "      json.dump(processed_data, f, ensure_ascii=False, indent=2)\n",
    "\n",
    "  dataset_artifact = wandb.Artifact(\"Anthropic_hh_rlfh\", type='dataset')\n",
    "  dataset_artifact.add_file(f\"train_mpt_hhrlhf_49k_ja.json\")\n",
    "  run.log_artifact(dataset_artifact)"
   ]
  },
  {
   "cell_type": "code",
   "execution_count": null,
   "metadata": {},
   "outputs": [],
   "source": []
  },
  {
   "cell_type": "code",
   "execution_count": null,
   "metadata": {},
   "outputs": [],
   "source": []
  },
  {
   "cell_type": "code",
   "execution_count": null,
   "metadata": {},
   "outputs": [],
   "source": []
  },
  {
   "cell_type": "code",
   "execution_count": null,
   "metadata": {},
   "outputs": [],
   "source": []
  }
 ],
 "metadata": {
  "kernelspec": {
   "display_name": "llm-finetuning",
   "language": "python",
   "name": "python3"
  },
  "language_info": {
   "codemirror_mode": {
    "name": "ipython",
    "version": 3
   },
   "file_extension": ".py",
   "mimetype": "text/x-python",
   "name": "python",
   "nbconvert_exporter": "python",
   "pygments_lexer": "ipython3",
   "version": "3.11.7"
  }
 },
 "nbformat": 4,
 "nbformat_minor": 2
}
